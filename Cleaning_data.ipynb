{
 "cells": [
  {
   "cell_type": "markdown",
   "id": "8256509e-b7e5-456b-98b5-75eff6d70c34",
   "metadata": {},
   "source": [
    "## Importing libraries"
   ]
  },
  {
   "cell_type": "code",
   "execution_count": 1,
   "id": "b21100e7-31cb-4bdd-88fb-b1f44121df56",
   "metadata": {},
   "outputs": [],
   "source": [
    "import pandas as pd\n",
    "import numpy as np"
   ]
  },
  {
   "cell_type": "markdown",
   "id": "ded3a1ac-1fd2-4815-acff-743b1fa2687c",
   "metadata": {},
   "source": [
    "## Cleaning data"
   ]
  },
  {
   "cell_type": "code",
   "execution_count": 3,
   "id": "1e655cb1-5adb-49e7-8372-61b82b594b07",
   "metadata": {},
   "outputs": [],
   "source": [
    "def remove_volume_ids(data_H_T, volumn_list):\n",
    "    data_H_T = data_H_T.loc[data_H_T['volume_id'].isin(volumn_list)]\n",
    "    return data_H_T\n",
    "\n",
    "\n",
    "def remove_weight_0(data_H_T):\n",
    "    data_H_T = data_H_T.loc[data_H_T[\"weight\"] > 0]\n",
    "    return data_H_T\n",
    "\n",
    "\n",
    "def remove_particle_id_0(data_H_T):\n",
    "    data_H_T = data_H_T.loc[data_H_T[\"particle_id\"] > 0]\n",
    "    return data_H_T\n",
    "\n",
    "\n",
    "def remove_nhits_less_3(data_P):\n",
    "    data_P = data_P.loc[data_P[\"nhits\"] > 3]\n",
    "    return data_P\n",
    "\n",
    "\n",
    "def same_layer_filter(data_H_T):\n",
    "    data_H_T = data_H_T.drop_duplicates(subset = [\"particle_id\", \"volume_id\", \"layer_id\"])\n",
    "    small_occurrence = data_H_T[\"particle_id\"].value_counts() > 3\n",
    "    data_H_T = data_H_T[data_H_T[\"particle_id\"].isin(small_occurrence[small_occurrence].index)]\n",
    "    return data_H_T\n",
    "\n",
    "\n",
    "def pt_cutter(data_P, pt_cut_start, pt_cut_end):\n",
    "    data_P[\"Pt\"] = (data_P.px**2+data_P.py**2)**(1/2)\n",
    "    data_P = data_P.loc[(data_P[\"Pt\"] >= pt_cut_start) & (data_P[\"Pt\"] <= pt_cut_end)]\n",
    "    return data_P\n",
    "\n",
    "\n",
    "def full_data_clean(data_H_T, data_P, volumn_list, pt_cut_start, pt_cut_end):\n",
    "    data_H_T = remove_volume_ids(data_H_T, volumn_list)\n",
    "    data_H_T = remove_weight_0(data_H_T)\n",
    "    data_H_T = remove_particle_id_0(data_H_T)\n",
    "    data_H_T = same_layer_filter(data_H_T)\n",
    "    \n",
    "    data_P = pt_cutter(data_P, pt_cut_start, pt_cut_end)\n",
    "    data_P = remove_nhits_less_3(data_P)\n",
    "    \n",
    "    particle_id_list = list(set(data_H_T.particle_id) - set(data_P.particle_id))\n",
    "    data_H_T = data_H_T[~data_H_T['particle_id'].isin(particle_id_list)]\n",
    "    \n",
    "    particle_id_list = list(set(data_P.particle_id) - set(data_H_T.particle_id))\n",
    "    data_P = data_P[~data_P['particle_id'].isin(particle_id_list)]\n",
    "    return data_H_T.reset_index(drop=True) , data_P.reset_index(drop=True)"
   ]
  }
 ],
 "metadata": {
  "kernelspec": {
   "display_name": "Python 3 (ipykernel)",
   "language": "python",
   "name": "python3"
  },
  "language_info": {
   "codemirror_mode": {
    "name": "ipython",
    "version": 3
   },
   "file_extension": ".py",
   "mimetype": "text/x-python",
   "name": "python",
   "nbconvert_exporter": "python",
   "pygments_lexer": "ipython3",
   "version": "3.9.12"
  }
 },
 "nbformat": 4,
 "nbformat_minor": 5
}
