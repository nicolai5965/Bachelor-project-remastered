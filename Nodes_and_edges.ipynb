{
 "cells": [
  {
   "cell_type": "markdown",
   "id": "e7e7f05d-f686-4ee9-9d07-375b969ff9de",
   "metadata": {},
   "source": [
    "## Importing libraries"
   ]
  },
  {
   "cell_type": "code",
   "execution_count": 1,
   "id": "e62f0ebe-165a-40fa-992f-10bf9877cd9b",
   "metadata": {},
   "outputs": [
    {
     "name": "stdout",
     "output_type": "stream",
     "text": [
      "importing Jupyter notebook from Reading_data.ipynb\n",
      "importing Jupyter notebook from Cleaning_data.ipynb\n"
     ]
    }
   ],
   "source": [
    "import pandas as pd\n",
    "import numpy as np\n",
    "from numba import njit , jit\n",
    "from tqdm.notebook import trange, tqdm"
   ]
  },
  {
   "cell_type": "code",
   "execution_count": 2,
   "id": "d4446d68-fdb8-4187-982a-12ca0f312337",
   "metadata": {},
   "outputs": [],
   "source": [
    "def nodes_and_edges(df):\n",
    "    x = np.array(df.x)\n",
    "    y = np.array(df.y)\n",
    "    def car_to_cyl_cood(x, y):\n",
    "        r = np.sqrt(x**2 + y**2)\n",
    "        phi = np.arctan2(y, x)\n",
    "        return r , phi\n",
    "    \n",
    "    r_hits , phi_hits = car_to_cyl_cood(x, y)\n",
    "    \n",
    "    df[\"phi\"] = phi_hits\n",
    "    df[\"r\"] = r_hits\n",
    "\n",
    "    z = np.array(df.z)    \n",
    "    r = np.array(df.r)\n",
    "    phi = np.array(df.phi)\n",
    "    particles = np.array(df.particle_id)\n",
    "    hit_id = np.array(df.hit_id)\n",
    "\n",
    "    \n",
    "    @njit(error_model='numpy')\n",
    "    def func(x, y, r, phi, z, particles, hit_id):\n",
    "        node_to_node_feat = []\n",
    "        for i, idx in enumerate(range(len(phi))):\n",
    "            for k, kdx in enumerate(range(len(phi))):\n",
    "                dpdr = (phi[k]- phi[i])/(r[k]-r[i])\n",
    "                dr = r[k]-r[i]\n",
    "                z0 =  z[i] - r[i]*((z[k]-z[i])/(r[k]-r[i]))\n",
    "                if abs(z0) <= 70 and dr > 0:\n",
    "                    node_to_node_feat.append([(particles[i] == particles[k])*1, dpdr, idx, kdx, hit_id[idx], hit_id[kdx], dr, z[idx]\n",
    "                                  , z[kdx], r[idx], r[kdx], phi[idx], phi[kdx], x[idx], x[kdx], y[idx], y[kdx], z0])\n",
    "        return node_to_node_feat\n",
    "    \n",
    "    node_to_node_feat = func(x, y, r, phi, z, particles, hit_id) \n",
    "    \n",
    "    node_to_node_feat = pd.DataFrame(node_to_node_feat, columns=['Y_k' , \"dpdr\" , 'node_1', 'node_2',\"hit_id_node1\",\"hit_id_node2\",\"dr\",\"z_node1\",\"z_node2\",\"r_node1\",\"r_node2\",\"phi_node1\",\"phi_node2\",\n",
    "                            \"x_node1\",\"x_node2\",\"y_node1\",\"y_node2\",\"z0\"])\n",
    "    return node_to_node_feat"
   ]
  },
  {
   "cell_type": "code",
   "execution_count": 3,
   "id": "aff503ee-1399-46bb-a507-b792fed19616",
   "metadata": {},
   "outputs": [],
   "source": [
    "def REWMH(data):#removing_edges_with_to_many_hits_ids\n",
    "    data_sorted_True = data.loc[data.Y_k == 1]\n",
    "    data_sorted_True = data_sorted_True.sort_values(by = [\"hit_id_node1\",\"dr\"],ascending=True)\n",
    "    data_True = data_sorted_True.drop_duplicates(subset = \"hit_id_node1\",ignore_index = True)\n",
    "    data_sorted_False = data.loc[data.Y_k == 0]\n",
    "    data_sorted_False = data_sorted_False.sort_values(by = [\"hit_id_node1\",\"dr\"],ascending=True)\n",
    "    data_False = data_sorted_False.drop_duplicates(subset = \"hit_id_node1\",ignore_index = True)\n",
    "    True_and_false = pd.concat([data_True, data_False], ignore_index=True)\n",
    "    return True_and_false"
   ]
  },
  {
   "cell_type": "code",
   "execution_count": 4,
   "id": "493f799c-cef3-469d-bf60-5fec63e22063",
   "metadata": {},
   "outputs": [
    {
     "name": "stdout",
     "output_type": "stream",
     "text": [
      "Reading data for 100 events:\n"
     ]
    },
    {
     "data": {
      "application/vnd.jupyter.widget-view+json": {
       "model_id": "8b9ea9d330d0499e8fb92fa2d7da8966",
       "version_major": 2,
       "version_minor": 0
      },
      "text/plain": [
       "  0%|          | 0/100 [00:00<?, ?it/s]"
      ]
     },
     "metadata": {},
     "output_type": "display_data"
    },
    {
     "name": "stdout",
     "output_type": "stream",
     "text": [
      "Cleaning data for 100 events:\n"
     ]
    },
    {
     "data": {
      "application/vnd.jupyter.widget-view+json": {
       "model_id": "35e4322d4fc0436789a7f649b078e0e7",
       "version_major": 2,
       "version_minor": 0
      },
      "text/plain": [
       "  0%|          | 0/100 [00:00<?, ?it/s]"
      ]
     },
     "metadata": {},
     "output_type": "display_data"
    },
    {
     "name": "stdout",
     "output_type": "stream",
     "text": [
      "Finding nodes for all 100 events:\n"
     ]
    },
    {
     "data": {
      "application/vnd.jupyter.widget-view+json": {
       "model_id": "c69c234cf4694a83832640fa94c85bef",
       "version_major": 2,
       "version_minor": 0
      },
      "text/plain": [
       "  0%|          | 0/100 [00:00<?, ?it/s]"
      ]
     },
     "metadata": {},
     "output_type": "display_data"
    },
    {
     "name": "stdout",
     "output_type": "stream",
     "text": [
      "Splitting the data to 95 traning events:\n"
     ]
    },
    {
     "data": {
      "application/vnd.jupyter.widget-view+json": {
       "model_id": "909c5d20471e458791fba8e872771c2c",
       "version_major": 2,
       "version_minor": 0
      },
      "text/plain": [
       "  0%|          | 0/95 [00:00<?, ?it/s]"
      ]
     },
     "metadata": {},
     "output_type": "display_data"
    },
    {
     "name": "stdout",
     "output_type": "stream",
     "text": [
      "Splitting the data to 95 testing events:\n"
     ]
    },
    {
     "data": {
      "application/vnd.jupyter.widget-view+json": {
       "model_id": "d5c39033916f440b98e7e6b228a053f6",
       "version_major": 2,
       "version_minor": 0
      },
      "text/plain": [
       "  0%|          | 0/5 [00:00<?, ?it/s]"
      ]
     },
     "metadata": {},
     "output_type": "display_data"
    },
    {
     "name": "stdout",
     "output_type": "stream",
     "text": [
      "CPU times: total: 3min 6s\n",
      "Wall time: 3min 6s\n"
     ]
    }
   ],
   "source": []
  },
  {
   "cell_type": "code",
   "execution_count": null,
   "id": "39942f59-dcb8-4f56-b38b-198fc058dc9e",
   "metadata": {},
   "outputs": [],
   "source": []
  },
  {
   "cell_type": "code",
   "execution_count": null,
   "id": "dede1bc6-80fe-483d-89be-7e3283218df7",
   "metadata": {},
   "outputs": [],
   "source": []
  },
  {
   "cell_type": "code",
   "execution_count": null,
   "id": "f11d83cf-bbe6-4864-ae84-d064a30a8627",
   "metadata": {},
   "outputs": [],
   "source": []
  }
 ],
 "metadata": {
  "kernelspec": {
   "display_name": "Python 3 (ipykernel)",
   "language": "python",
   "name": "python3"
  },
  "language_info": {
   "codemirror_mode": {
    "name": "ipython",
    "version": 3
   },
   "file_extension": ".py",
   "mimetype": "text/x-python",
   "name": "python",
   "nbconvert_exporter": "python",
   "pygments_lexer": "ipython3",
   "version": "3.9.12"
  }
 },
 "nbformat": 4,
 "nbformat_minor": 5
}
