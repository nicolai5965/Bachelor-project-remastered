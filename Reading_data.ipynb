{
 "cells": [
  {
   "cell_type": "markdown",
   "id": "23091d53-5b1e-4a4f-97db-73e8bfe22bca",
   "metadata": {
    "tags": []
   },
   "source": [
    "## Importing libraries"
   ]
  },
  {
   "cell_type": "code",
   "execution_count": 1,
   "id": "88e94b95-6e91-42d3-b507-c11c9b85ecd7",
   "metadata": {},
   "outputs": [],
   "source": [
    "import numpy as np \n",
    "import pandas as pd\n",
    "from tqdm.notebook import trange, tqdm"
   ]
  },
  {
   "cell_type": "markdown",
   "id": "a046f048-3667-4b67-94e4-7c988726a11c",
   "metadata": {},
   "source": [
    "## Reading data"
   ]
  },
  {
   "cell_type": "code",
   "execution_count": 11,
   "id": "73b8784c-dfac-4754-aa27-38190b8eacc4",
   "metadata": {},
   "outputs": [],
   "source": [
    "def reading_data(data_path, events_called):\n",
    "    data_merge = []\n",
    "    particles = []\n",
    "    for i in trange(0,events_called):\n",
    "        if i < 10:\n",
    "            hist_data = pd.read_csv(f'{data_path}/event00000100%d-hits.csv' % i)\n",
    "            particles_data = pd.read_csv(f'{data_path}/event00000100%d-particles.csv'% i)\n",
    "            truth_data = pd.read_csv(f'{data_path}/event00000100%d-truth.csv'% i)\n",
    "            particles.append(particles_data)\n",
    "            data_merge.append(pd.merge(hist_data, truth_data, on='hit_id', how='outer'))\n",
    "        if i >= 10:\n",
    "            hist_data = pd.read_csv(f'{data_path}/event0000010%d-hits.csv' % i)\n",
    "            particles_data = pd.read_csv(f'{data_path}/event0000010%d-particles.csv'% i)\n",
    "            truth_data = pd.read_csv(f'{data_path}/event0000010%d-truth.csv'% i)\n",
    "            particles.append(particles_data)\n",
    "            data_merge.append(pd.merge(hist_data, truth_data, on='hit_id', how='outer'))\n",
    "    return data_merge , particles"
   ]
  }
 ],
 "metadata": {
  "kernelspec": {
   "display_name": "Python 3 (ipykernel)",
   "language": "python",
   "name": "python3"
  },
  "language_info": {
   "codemirror_mode": {
    "name": "ipython",
    "version": 3
   },
   "file_extension": ".py",
   "mimetype": "text/x-python",
   "name": "python",
   "nbconvert_exporter": "python",
   "pygments_lexer": "ipython3",
   "version": "3.9.12"
  }
 },
 "nbformat": 4,
 "nbformat_minor": 5
}
