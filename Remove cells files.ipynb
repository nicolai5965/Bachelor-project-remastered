{
 "cells": [
  {
   "cell_type": "code",
   "execution_count": null,
   "id": "960b9187-6806-4f53-9d0d-6415741da91c",
   "metadata": {},
   "outputs": [],
   "source": [
    "#I have made this code since the cells files is not used."
   ]
  },
  {
   "cell_type": "markdown",
   "id": "de285ace-9b50-4e6d-8f3c-6860a4d2fc88",
   "metadata": {
    "tags": []
   },
   "source": [
    "## Importing libraries"
   ]
  },
  {
   "cell_type": "code",
   "execution_count": 4,
   "id": "a5b08efd-f1b7-401f-b462-e59a3ff511f7",
   "metadata": {},
   "outputs": [],
   "source": [
    "import os\n",
    "import glob"
   ]
  },
  {
   "cell_type": "markdown",
   "id": "7ba631cb-f706-45e2-aca0-0a2eb7d05a5d",
   "metadata": {},
   "source": [
    "## Removing cells files"
   ]
  },
  {
   "cell_type": "code",
   "execution_count": 5,
   "id": "e1eb5360-8b80-4424-a9d6-6eb9a2875296",
   "metadata": {},
   "outputs": [],
   "source": [
    "path = \"train_100_events\"\n",
    "csv_files = glob.glob(os.path.join(path, \"*\"))\n",
    "\n",
    "for __ in range(len(csv_files)):\n",
    "    if \"cells\" in csv_files[__]:\n",
    "        os.remove(csv_files[__])\n",
    "\n"
   ]
  }
 ],
 "metadata": {
  "kernelspec": {
   "display_name": "Python 3 (ipykernel)",
   "language": "python",
   "name": "python3"
  },
  "language_info": {
   "codemirror_mode": {
    "name": "ipython",
    "version": 3
   },
   "file_extension": ".py",
   "mimetype": "text/x-python",
   "name": "python",
   "nbconvert_exporter": "python",
   "pygments_lexer": "ipython3",
   "version": "3.9.12"
  }
 },
 "nbformat": 4,
 "nbformat_minor": 5
}
